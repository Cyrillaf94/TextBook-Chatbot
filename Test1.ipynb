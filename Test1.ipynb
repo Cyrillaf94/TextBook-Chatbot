{
 "cells": [
  {
   "cell_type": "code",
   "execution_count": 1,
   "id": "a5f4f011",
   "metadata": {},
   "outputs": [],
   "source": [
    "from dotenv import load_dotenv\n",
    "import pickle\n",
    "import pdfplumber\n",
    "from langchain.text_splitter import RecursiveCharacterTextSplitter\n",
    "from langchain.embeddings.openai import OpenAIEmbeddings\n",
    "from langchain.vectorstores import FAISS\n",
    "from langchain.llms import OpenAI\n",
    "from langchain.chains.question_answering import load_qa_chain\n",
    "from langchain.callbacks import get_openai_callback\n",
    "import os\n",
    "import pdb\n",
    "import re"
   ]
  },
  {
   "cell_type": "code",
   "execution_count": 2,
   "id": "bb7ce1bd",
   "metadata": {},
   "outputs": [],
   "source": [
    "with open(f\"data/processed/Gastrointestinal.pkl\", \"rb\") as f:\n",
    "        VectorStore = pickle.load(f)"
   ]
  },
  {
   "cell_type": "code",
   "execution_count": 3,
   "id": "ad9c2b06",
   "metadata": {},
   "outputs": [
    {
     "data": {
      "text/plain": [
       "<langchain.vectorstores.faiss.FAISS at 0x7f84e5f4fa60>"
      ]
     },
     "execution_count": 3,
     "metadata": {},
     "output_type": "execute_result"
    }
   ],
   "source": [
    "VectorStore"
   ]
  },
  {
   "cell_type": "code",
   "execution_count": 115,
   "id": "ba9c0874",
   "metadata": {},
   "outputs": [],
   "source": [
    "question = '''You are a professor creating a quizz, \n",
    "Please generate a list, each item corresponding to a multiple choice question (5 choices, only one is correct).\n",
    "Each dictionnary includes: the question, the choices, the correct answer, and an explanation for the correct answer.\n",
    "Make sure to provide at least two disctinct and complete question dictionnaries\n",
    "Return in the format:\n",
    "[{\"question\" : the text of the question,\n",
    "    \"choices\" : a list of five choices,\n",
    "    \"answer\": the index number of the correct answer,\n",
    "    \"explanation\": the explanation for the correct answer\n",
    "},\n",
    "{# the next question},\n",
    "]\n",
    "'''"
   ]
  },
  {
   "cell_type": "code",
   "execution_count": 111,
   "id": "fbf55e10",
   "metadata": {},
   "outputs": [],
   "source": [
    "load_dotenv()\n",
    "llm = OpenAI()\n",
    "chain = load_qa_chain(llm=llm, chain_type=\"stuff\")\n",
    "docs = VectorStore.similarity_search(query='gastrointestinal general stuff', k=5)\n",
    "questions = []"
   ]
  },
  {
   "cell_type": "code",
   "execution_count": 122,
   "id": "660e8780",
   "metadata": {},
   "outputs": [
    {
     "name": "stdout",
     "output_type": "stream",
     "text": [
      "Tokens Used: 681\n",
      "\tPrompt Tokens: 425\n",
      "\tCompletion Tokens: 256\n",
      "Successful Requests: 1\n",
      "Total Cost (USD): $0.01362\n",
      "Found 2 questions generated\n",
      "Tokens Used: 524\n",
      "\tPrompt Tokens: 519\n",
      "\tCompletion Tokens: 5\n",
      "Successful Requests: 1\n",
      "Total Cost (USD): $0.01048\n",
      "Found 0 questions generated\n",
      "Tokens Used: 749\n",
      "\tPrompt Tokens: 493\n",
      "\tCompletion Tokens: 256\n",
      "Successful Requests: 1\n",
      "Total Cost (USD): $0.01498\n",
      "Found 2 questions generated\n",
      "Tokens Used: 624\n",
      "\tPrompt Tokens: 455\n",
      "\tCompletion Tokens: 169\n",
      "Successful Requests: 1\n",
      "Total Cost (USD): $0.012480000000000002\n",
      "Found 2 questions generated\n",
      "Tokens Used: 652\n",
      "\tPrompt Tokens: 481\n",
      "\tCompletion Tokens: 171\n",
      "Successful Requests: 1\n",
      "Total Cost (USD): $0.01304\n",
      "Found 2 questions generated\n"
     ]
    }
   ],
   "source": [
    "questions = []\n",
    "for doc in docs:\n",
    "    with get_openai_callback() as cb:\n",
    "        response = chain.run(input_documents=[doc], question=question)\n",
    "        print(cb)\n",
    "    # Use regular expressions to match complete dictionaries\n",
    "    matches = re.findall(r'\\{.*?\\}', response, re.DOTALL)\n",
    "    print(f'Found {len(matches)} questions generated')\n",
    "    # Parse each match as JSON\n",
    "    gen_q = [json.loads(match) for match in matches]\n",
    "    # Add context and append to dictionnary\n",
    "    for _ in gen_q:\n",
    "        _['context'] = doc.page_content\n",
    "        questions.append(_)"
   ]
  },
  {
   "cell_type": "code",
   "execution_count": 125,
   "id": "d09f6549",
   "metadata": {},
   "outputs": [
    {
     "name": "stdout",
     "output_type": "stream",
     "text": [
      "8\n"
     ]
    }
   ],
   "source": [
    "print(len(questions))"
   ]
  }
 ],
 "metadata": {
  "kernelspec": {
   "display_name": "Python 3 (ipykernel)",
   "language": "python",
   "name": "python3"
  },
  "language_info": {
   "codemirror_mode": {
    "name": "ipython",
    "version": 3
   },
   "file_extension": ".py",
   "mimetype": "text/x-python",
   "name": "python",
   "nbconvert_exporter": "python",
   "pygments_lexer": "ipython3",
   "version": "3.10.6"
  },
  "toc": {
   "base_numbering": 1,
   "nav_menu": {},
   "number_sections": true,
   "sideBar": true,
   "skip_h1_title": false,
   "title_cell": "Table of Contents",
   "title_sidebar": "Contents",
   "toc_cell": false,
   "toc_position": {},
   "toc_section_display": true,
   "toc_window_display": false
  }
 },
 "nbformat": 4,
 "nbformat_minor": 5
}
