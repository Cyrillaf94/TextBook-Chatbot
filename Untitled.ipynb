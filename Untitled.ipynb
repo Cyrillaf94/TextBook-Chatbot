{
 "cells": [
  {
   "cell_type": "code",
   "execution_count": 2,
   "id": "a5f4f011",
   "metadata": {},
   "outputs": [],
   "source": [
    "from dotenv import load_dotenv\n",
    "import pickle\n",
    "import pdfplumber\n",
    "from langchain.text_splitter import RecursiveCharacterTextSplitter\n",
    "from langchain.embeddings.openai import OpenAIEmbeddings\n",
    "from langchain.vectorstores import FAISS\n",
    "from langchain.llms import OpenAI\n",
    "from langchain.chains.question_answering import load_qa_chain\n",
    "from langchain.callbacks import get_openai_callback\n",
    "import os\n",
    "import pdb\n",
    "import re"
   ]
  },
  {
   "cell_type": "code",
   "execution_count": 4,
   "id": "bb7ce1bd",
   "metadata": {},
   "outputs": [],
   "source": [
    "with open(f\"data/processed/Gastrointestinal.pkl\", \"rb\") as f:\n",
    "        VectorStore = pickle.load(f)"
   ]
  },
  {
   "cell_type": "code",
   "execution_count": 5,
   "id": "ad9c2b06",
   "metadata": {},
   "outputs": [
    {
     "data": {
      "text/plain": [
       "<langchain.vectorstores.faiss.FAISS at 0x7fc6e2d7a530>"
      ]
     },
     "execution_count": 5,
     "metadata": {},
     "output_type": "execute_result"
    }
   ],
   "source": [
    "VectorStore"
   ]
  },
  {
   "cell_type": "code",
   "execution_count": 88,
   "id": "ba9c0874",
   "metadata": {},
   "outputs": [],
   "source": [
    "question = '''You are a professor creating a quizz, \n",
    "Please generate different blocks, each corresponding to a multiple choice question (5 choices, only one is correct).\n",
    "Each block includes: the question, the choices, the correct answer, and an explanation for the correct answer.\n",
    "Make sure to provide at least two disctinct and complete question blocks\n",
    "Each block will be returned as follows:\n",
    "Question 1:  \n",
    "A)\n",
    "B)\n",
    "C)\n",
    "D)\n",
    "E)\n",
    "Answer: E\n",
    "Explanation:'''"
   ]
  },
  {
   "cell_type": "code",
   "execution_count": 89,
   "id": "fbf55e10",
   "metadata": {},
   "outputs": [],
   "source": [
    "load_dotenv()\n",
    "llm = OpenAI()\n",
    "chain = load_qa_chain(llm=llm, chain_type=\"stuff\")\n",
    "docs = VectorStore.similarity_search(query='gastrointestinal anatomy', k=1)\n",
    "questions = []"
   ]
  },
  {
   "cell_type": "code",
   "execution_count": 90,
   "id": "77970474",
   "metadata": {},
   "outputs": [
    {
     "data": {
      "text/plain": [
       "[Document(page_content='329\\nEndocrinE ` endocrine—Physiology EndocrinE ` endocrine—Physiology SEcTion iii\\nCortisol\\nsoUrce Adrenal zona fasciculata. Bound to corticosteroid-binding globulin.\\nFUnction \\x8f Appetite Cortisol is A BIG FIB.\\n\\x8f Blood pressure: Exogenous corticosteroids can cause\\n\\x83 Upregulates α-receptors on arterioles reactivation of TB and candidiasis (blocks IL-2\\n1\\n\\x8e \\x8f sensitivity to norepinephrine and production).\\nepinephrine (permissive action)\\nStress\\n\\x83 At high concentrations, can bind to Circadian rhythm Hypothalamus\\nmineralocorticoid (aldosterone) receptors\\nCRH\\n\\x8f Insulin resistance (diabetogenic)\\n\\x8f Gluconeogenesis, lipolysis, and proteolysis\\n(\\x90 glucose utilization)\\n\\x90 Fibroblast activity (poor wound healing,\\nAnterior\\n\\x90 collagen synthesis, \\x8f striae) pituitary\\n\\x90 Inflammatory and Immune responses: Endorphins\\n\\x83 Inhibits production of leukotrienes and MSH\\nPro-opio-melano-cortin ACTH\\nprostaglandins (POMC)\\n\\x83 Inhibits WBC adhesion \\x8e neutrophilia\\n\\x83 Blocks histamine release from mast cells\\nCortisol', metadata={})]"
      ]
     },
     "execution_count": 90,
     "metadata": {},
     "output_type": "execute_result"
    }
   ],
   "source": [
    "docs"
   ]
  },
  {
   "cell_type": "code",
   "execution_count": 91,
   "id": "660e8780",
   "metadata": {},
   "outputs": [
    {
     "name": "stdout",
     "output_type": "stream",
     "text": [
      "Tokens Used: 648\n",
      "\tPrompt Tokens: 474\n",
      "\tCompletion Tokens: 174\n",
      "Successful Requests: 1\n",
      "Total Cost (USD): $0.012960000000000001\n",
      " \n",
      "\n",
      "Question 1: What is the primary function of cortisol?\n",
      "A) Appetite\n",
      "B) Blood pressure\n",
      "C) Circadian rhythm\n",
      "D) Hypothalamus\n",
      "E) Endorphins\n",
      "Answer: A\n",
      "Explanation: Cortisol's primary function is to regulate appetite.\n",
      "\n",
      "Question 2: What is the effect of high concentrations of cortisol?\n",
      "A) Inhibits production of leukotrienes and prostaglandins\n",
      "B) Blocks histamine release from mast cells\n",
      "C) Upregulates α-receptors on arterioles\n",
      "D) Reactivation of TB and candidiasis\n",
      "E) Binds to mineralocorticoid (aldosterone) receptors\n",
      "Answer: E\n",
      "Explanation: At high concentrations, cortisol can bind to mineralocorticoid (aldosterone) receptors.\n"
     ]
    }
   ],
   "source": [
    "for doc in docs:\n",
    "    with get_openai_callback() as cb:\n",
    "        response = chain.run(input_documents=[doc], question=question)\n",
    "        print(cb)\n",
    "    print(response)\n"
   ]
  },
  {
   "cell_type": "code",
   "execution_count": 79,
   "id": "37433444",
   "metadata": {},
   "outputs": [],
   "source": [
    "import re"
   ]
  },
  {
   "cell_type": "code",
   "execution_count": 84,
   "id": "738b0362",
   "metadata": {},
   "outputs": [],
   "source": [
    "response = \"\"\"Question 1: What is the main function of cortisol? \n",
    "A) Upregulates α-receptors on arterioles \n",
    "B) Blocks IL-2 production\n",
    "C) Reactivation of TB and candidiasis\n",
    "D) Binds to mineralocorticoid (aldosterone) receptors\n",
    "E) Gluconeogenesis, lipolysis, and proteolysis \n",
    "Answer: E) Gluconeogenesis, lipolysis, and proteolysis\n",
    "Explanation: Cortisol is a hormone released by the adrenal zona fasciculata. Its main function is to regulate glucose utilization through gluconeogenesis, lipolysis, and proteolysis. \n",
    "\n",
    "Question 2: What is the source of cortisol?\n",
    "A) Hypothalamus\n",
    "B) Endorphins\n",
    "C) Anterior pituitary\n",
    "D) CRH\n",
    "E) Adrenal zona fasciculata\n",
    "Answer: E) Adrenal zona fasciculata \n",
    "Explanation: Cortisol is released by the adrenal zona fasciculata. It is then bound to corticosteroid-binding globulin and released into the bloodstream.\n",
    "\"\"\""
   ]
  },
  {
   "cell_type": "code",
   "execution_count": 87,
   "id": "2a56b3db",
   "metadata": {},
   "outputs": [
    {
     "name": "stdout",
     "output_type": "stream",
     "text": [
      "[{'id': 1, 'question': 'What is the main function of cortisol? ', 'choices': {'A': 'Upregulates α-receptors on arterioles ', 'B': 'Blocks IL-2 production', 'C': 'Reactivation of TB and candidiasis', 'D': 'Binds to mineralocorticoid (aldosterone) receptors', 'E': 'Gluconeogenesis, lipolysis, and proteolysis '}, 'answer': 'E) Gluconeogenesis, lipolysis, and proteolysis', 'explanation': 'Cortisol is a hormone released by the adrenal zona fasciculata. Its main function is to regulate glucose utilization through gluconeogenesis, lipolysis, and proteolysis. '}, {'id': 2, 'question': 'What is the source of cortisol?', 'choices': {'A': 'Hypothalamus', 'B': 'Endorphins', 'C': 'Anterior pituitary', 'D': 'CRH', 'E': 'Adrenal zona fasciculata'}, 'answer': 'E) Adrenal zona fasciculata ', 'explanation': 'Cortisol is released by the adrenal zona fasciculata. It is then bound to corticosteroid-binding globulin and released into the bloodstream.'}]\n"
     ]
    }
   ],
   "source": [
    "import re\n",
    "\n",
    "pattern = r\"Question (\\d+): (.*?)\\n(A\\)) (.*?)\\n(B\\)) (.*?)\\n(C\\)) (.*?)\\n(D\\)) (.*?)\\n(E\\)) (.*?)\\nAnswer: (* ?)\\nExplanation: (.*?)\\n\"\n",
    "\n",
    "matches = re.findall(pattern, response)\n",
    "\n",
    "questions = [\n",
    "    {\n",
    "        \"id\": int(match[0]),\n",
    "        \"question\": match[1],\n",
    "        \"choices\": {\n",
    "            \"A\": match[3],\n",
    "            \"B\": match[5],\n",
    "            \"C\": match[7],\n",
    "            \"D\": match[9],\n",
    "            \"E\": match[11]\n",
    "        },\n",
    "        \"answer\": match[12],\n",
    "        \"explanation\": match[13]\n",
    "    }\n",
    "    for match in matches\n",
    "]\n",
    "\n",
    "print(questions)"
   ]
  },
  {
   "cell_type": "code",
   "execution_count": null,
   "id": "6f3721ba",
   "metadata": {},
   "outputs": [],
   "source": []
  }
 ],
 "metadata": {
  "kernelspec": {
   "display_name": "Python 3 (ipykernel)",
   "language": "python",
   "name": "python3"
  },
  "language_info": {
   "codemirror_mode": {
    "name": "ipython",
    "version": 3
   },
   "file_extension": ".py",
   "mimetype": "text/x-python",
   "name": "python",
   "nbconvert_exporter": "python",
   "pygments_lexer": "ipython3",
   "version": "3.10.6"
  },
  "toc": {
   "base_numbering": 1,
   "nav_menu": {},
   "number_sections": true,
   "sideBar": true,
   "skip_h1_title": false,
   "title_cell": "Table of Contents",
   "title_sidebar": "Contents",
   "toc_cell": false,
   "toc_position": {},
   "toc_section_display": true,
   "toc_window_display": false
  }
 },
 "nbformat": 4,
 "nbformat_minor": 5
}
