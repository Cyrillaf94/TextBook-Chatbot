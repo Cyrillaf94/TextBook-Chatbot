{
 "cells": [
  {
   "cell_type": "code",
   "execution_count": 38,
   "id": "6a3f4f98",
   "metadata": {},
   "outputs": [
    {
     "data": {
      "text/plain": [
       "True"
      ]
     },
     "execution_count": 38,
     "metadata": {},
     "output_type": "execute_result"
    }
   ],
   "source": [
    "import pickle\n",
    "import os\n",
    "import re\n",
    "import json\n",
    " \n",
    "# To help construct our Chat Messages\n",
    "from langchain.schema import HumanMessage\n",
    "from langchain.prompts import PromptTemplate, ChatPromptTemplate, HumanMessagePromptTemplate\n",
    "from langchain.chains.question_answering import load_qa_chain\n",
    "from langchain.callbacks import get_openai_callback\n",
    " \n",
    "# We will be using ChatGPT model (gpt-3.5-turbo)\n",
    "from langchain.chat_models import ChatOpenAI\n",
    "from langchain.llms import OpenAI\n",
    " \n",
    "# To parse outputs and get structured data back\n",
    "from langchain.output_parsers import StructuredOutputParser, ResponseSchema\n",
    " \n",
    "# Enter your API Key\n",
    "from dotenv import load_dotenv\n",
    "load_dotenv()"
   ]
  },
  {
   "cell_type": "code",
   "execution_count": 13,
   "id": "9bb897c0",
   "metadata": {},
   "outputs": [
    {
     "data": {
      "text/plain": [
       "True"
      ]
     },
     "execution_count": 13,
     "metadata": {},
     "output_type": "execute_result"
    }
   ],
   "source": [
    "# Check OpenAI Key is present\n",
    "len(os.environ.get('OPENAI_API_KEY')) > 0"
   ]
  },
  {
   "cell_type": "code",
   "execution_count": 14,
   "id": "d5b184d6",
   "metadata": {},
   "outputs": [
    {
     "data": {
      "text/plain": [
       "<langchain.vectorstores.faiss.FAISS at 0x7f33fa624970>"
      ]
     },
     "execution_count": 14,
     "metadata": {},
     "output_type": "execute_result"
    }
   ],
   "source": [
    "with open(f\"data/processed/Gastrointestinal.pkl\", \"rb\") as f:\n",
    "        VectorStore = pickle.load(f)\n",
    "VectorStore"
   ]
  },
  {
   "cell_type": "code",
   "execution_count": 56,
   "id": "1d5325fe",
   "metadata": {},
   "outputs": [],
   "source": [
    "llm = OpenAI()\n",
    "chain = load_qa_chain(llm=llm, chain_type=\"stuff\")\n",
    "docs = VectorStore.similarity_search(query='gastrointestinal anatomy scans', k=1)"
   ]
  },
  {
   "cell_type": "code",
   "execution_count": 57,
   "id": "d053d21b",
   "metadata": {},
   "outputs": [
    {
     "data": {
      "text/plain": [
       "[Document(page_content='metabolism and which lab values increase or decrease depending on the\\ndisease process. Be comfortable with basic interpretation of abdominal\\nx-rays, CT scans, and endoscopic images.\\n351\\nFAS1_2019_09-Gastrointestinal_351-394.indd 351 10/26/18 10:58 AM352\\nseCtion iii Gastrointestinal ` gastrointestinal—embryology Gastrointestinal ` gastrointestinal—embryology\\n` gastrointestinal—embryology\\nNormal Foregut—esophagus to upper duodenum.\\ngastrointestinal Midgut—lower duodenum to proximal 2/3 of transverse colon.\\nembryology Hindgut—distal 1/3 of transverse colon to anal canal above pectinate line.\\nMidgut development:\\n\\x83 6th week—physiologic midgut herniates through umbilical ring\\n\\x83 10th week—returns to abdominal cavity + rotates around superior mesenteric artery (SMA),\\ntotal 270° counterclockwise\\nVentral wall defects Developmental defects due to failure of rostral fold closure (eg, sternal defects [ectopia cordis]),', metadata={})]"
      ]
     },
     "execution_count": 57,
     "metadata": {},
     "output_type": "execute_result"
    }
   ],
   "source": [
    "docs"
   ]
  },
  {
   "cell_type": "code",
   "execution_count": 58,
   "id": "6d41796a",
   "metadata": {},
   "outputs": [
    {
     "data": {
      "text/plain": [
       "[Document(page_content='metabolism and which lab values increase or decrease depending on the disease process. Be comfortable with basic interpretation of abdominal x-rays, CT scans, and endoscopic images. 351 FAS1_2019_09-Gastrointestinal_351-394.indd 351 10/26/18 10:58 AM352 seCtion iii Gastrointestinal ` gastrointestinal—embryology Gastrointestinal ` gastrointestinal—embryology ` gastrointestinal—embryology Normal Foregut—esophagus to upper duodenum. gastrointestinal Midgut—lower duodenum to proximal 2/3 of transverse colon. embryology Hindgut—distal 1/3 of transverse colon to anal canal above pectinate line. Midgut development: \\x83 6th week—physiologic midgut herniates through umbilical ring \\x83 10th week—returns to abdominal cavity + rotates around superior mesenteric artery (SMA), total 270° counterclockwise Ventral wall defects Developmental defects due to failure of rostral fold closure (eg, sternal defects [ectopia cordis]),', metadata={})]"
      ]
     },
     "execution_count": 58,
     "metadata": {},
     "output_type": "execute_result"
    }
   ],
   "source": [
    "for doc in docs:\n",
    "    doc.page_content = doc.page_content.replace('\\n', ' ')\n",
    "docs"
   ]
  },
  {
   "cell_type": "code",
   "execution_count": 59,
   "id": "1f96681f",
   "metadata": {},
   "outputs": [],
   "source": [
    "response_schemas = [\n",
    "    ResponseSchema(name=\"question\", description=\"A question generated from input text snippet.\"),\n",
    "    ResponseSchema(name=\"options\", description=\"5 possible choices of the multiple choice question.\"),\n",
    "    ResponseSchema(name=\"answer\", description=\"the correct answer out of the five choices.\"),\n",
    "    ResponseSchema(name=\"explanation\", description=\"Explanation for the answer\")\n",
    "]"
   ]
  },
  {
   "cell_type": "code",
   "execution_count": 60,
   "id": "b568c6bb",
   "metadata": {},
   "outputs": [
    {
     "name": "stdout",
     "output_type": "stream",
     "text": [
      "The output should be a markdown code snippet formatted in the following schema, including the leading and trailing \"\\`\\`\\`json\" and \"\\`\\`\\`\":\n",
      "\n",
      "```json\n",
      "{\n",
      "\t\"question\": string  // A question generated from input text snippet.\n",
      "\t\"options\": string  // 5 possible choices of the multiple choice question.\n",
      "\t\"answer\": string  // the correct answer out of the five choices.\n",
      "\t\"explanation\": string  // Explanation for the answer\n",
      "}\n",
      "```\n"
     ]
    }
   ],
   "source": [
    "# The parser that will look for the LLM output in my schema and return it back to me\n",
    "output_parser = StructuredOutputParser.from_response_schemas(response_schemas)\n",
    " \n",
    "# The format instructions that LangChain makes. Let's look at them\n",
    "format_instructions = output_parser.get_format_instructions()\n",
    " \n",
    "print(format_instructions)"
   ]
  },
  {
   "cell_type": "code",
   "execution_count": 63,
   "id": "1cef110a",
   "metadata": {},
   "outputs": [],
   "source": [
    "format_instructions = \"\"\"The output should be a markdown code snippet formatted in the following schema, including the leading and trailing \"-json\":\n",
    "\n",
    "-json\n",
    "{\n",
    "\t\"question\": string  // A question generated from input text snippet.\n",
    "\t\"options\": list  // 5 possible choices of the multiple choice question.\n",
    "\t\"answer\": integer  // the correct answer index out of the five choices.\n",
    "\t\"explanation\": string  // Explanation for the answer\n",
    "}\n",
    "-json\"\"\""
   ]
  },
  {
   "cell_type": "code",
   "execution_count": 66,
   "id": "6461da93",
   "metadata": {},
   "outputs": [
    {
     "data": {
      "text/plain": [
       "'You are a professor creating a multiple choice questionnaire based on the context provided.\\nThe output should be a markdown code snippet formatted in the following schema, including the leading and trailing \"-json\":\\n\\n-json\\n{\\n\\t\"question\": string  // A question generated from input text snippet.\\n\\t\"options\": list  // 5 possible choices of the multiple choice question.\\n\\t\"answer\": integer  // the correct answer index out of the five choices.\\n\\t\"explanation\": string  // Explanation for the answer\\n}\\n-json'"
      ]
     },
     "execution_count": 66,
     "metadata": {},
     "output_type": "execute_result"
    }
   ],
   "source": [
    "# The prompt template that brings it all together\n",
    "question = f'''You are a professor creating a multiple choice questionnaire based on the context provided.\\n{format_instructions}'''\n",
    "question"
   ]
  },
  {
   "cell_type": "code",
   "execution_count": 67,
   "id": "70b4fa7f",
   "metadata": {},
   "outputs": [
    {
     "name": "stdout",
     "output_type": "stream",
     "text": [
      "Tokens Used: 406\n",
      "\tPrompt Tokens: 401\n",
      "\tCompletion Tokens: 5\n",
      "Successful Requests: 1\n",
      "Total Cost (USD): $0.00812\n",
      " I don't know.\n"
     ]
    }
   ],
   "source": [
    "for doc in docs:\n",
    "    with get_openai_callback() as cb:\n",
    "            response = chain.run(input_documents=[doc], question=question)\n",
    "            print(cb)\n",
    "    print(response)"
   ]
  },
  {
   "cell_type": "code",
   "execution_count": 45,
   "id": "58bbc1d6",
   "metadata": {},
   "outputs": [
    {
     "data": {
      "text/plain": [
       "\" I don't know.\""
      ]
     },
     "execution_count": 45,
     "metadata": {},
     "output_type": "execute_result"
    }
   ],
   "source": [
    "response"
   ]
  },
  {
   "cell_type": "code",
   "execution_count": null,
   "id": "248e6bbf",
   "metadata": {},
   "outputs": [],
   "source": []
  }
 ],
 "metadata": {
  "kernelspec": {
   "display_name": "Python 3 (ipykernel)",
   "language": "python",
   "name": "python3"
  },
  "language_info": {
   "codemirror_mode": {
    "name": "ipython",
    "version": 3
   },
   "file_extension": ".py",
   "mimetype": "text/x-python",
   "name": "python",
   "nbconvert_exporter": "python",
   "pygments_lexer": "ipython3",
   "version": "3.10.6"
  },
  "toc": {
   "base_numbering": 1,
   "nav_menu": {},
   "number_sections": true,
   "sideBar": true,
   "skip_h1_title": false,
   "title_cell": "Table of Contents",
   "title_sidebar": "Contents",
   "toc_cell": false,
   "toc_position": {},
   "toc_section_display": true,
   "toc_window_display": false
  }
 },
 "nbformat": 4,
 "nbformat_minor": 5
}
